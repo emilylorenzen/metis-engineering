{
 "cells": [
  {
   "cell_type": "code",
   "execution_count": 65,
   "metadata": {},
   "outputs": [],
   "source": [
    "import numpy as np \n",
    "import pandas as pd \n",
    "import os\n",
    "import string\n",
    "import itertools\n",
    "import matplotlib.pyplot as plt\n",
    "%matplotlib inline\n",
    "\n",
    "from sklearn.model_selection import train_test_split\n",
    "from sklearn.utils import class_weight\n",
    "\n",
    "import tensorflow as tf\n",
    "import keras\n",
    "\n",
    "from keras import optimizers\n",
    "from keras import metrics\n",
    "\n",
    "from keras.callbacks import TensorBoard\n",
    "from keras.layers import LeakyReLU\n",
    "from keras.layers import ZeroPadding2D, Dropout, Dense, Conv2D, MaxPooling2D, Flatten, GlobalAveragePooling2D, InputLayer\n",
    "from keras.models import Sequential\n",
    "from keras.models import Model\n",
    "from keras.preprocessing import image\n",
    "from keras.preprocessing.image import ImageDataGenerator\n",
    "from keras.utils import np_utils\n",
    "from keras.utils.vis_utils import plot_model\n"
   ]
  },
  {
   "cell_type": "code",
   "execution_count": 66,
   "metadata": {},
   "outputs": [
    {
     "name": "stdout",
     "output_type": "stream",
     "text": [
      "1.0    6360\n",
      "2.0    5064\n",
      "0.0    4203\n",
      "Name: category, dtype: int64\n",
      "(15627, 14)\n"
     ]
    },
    {
     "name": "stderr",
     "output_type": "stream",
     "text": [
      "/opt/conda/lib/python3.7/site-packages/IPython/core/interactiveshell.py:3441: DtypeWarning: Columns (11,12) have mixed types.Specify dtype option on import or set low_memory=False.\n",
      "  exec(code_obj, self.user_global_ns, self.user_ns)\n"
     ]
    }
   ],
   "source": [
    "# Read in metadata on images\n",
    "image_MoA = pd.read_csv('/home/emily/image_MoA.csv')\n",
    "\n",
    "# Focus on a set of images with that have already been preprocessed into numpy arrays\n",
    "image_MoA_subset = image_MoA[(image_MoA.experiment == 'HUVEC-1') & image_MoA.plate.isin((1,2,3,4,5,6,7,8,9))].copy()\n",
    "\n",
    "# Define which categories to target in this intial attempt, focus on the most represented ligand types\n",
    "image_MoA_subset['category'] = image_MoA_subset.mechanism.map({'GPCR agonist': 0, 'Growth factor': 1, 'Interleukin': 2})\n",
    "\n",
    "# Ensure metadata is sorted to align with image arrays\n",
    "image_MoA_subset.sort_values(['plate', 'well'], inplace = True)\n",
    "\n",
    "# Identify indices of images that are not included in target categories\n",
    "null_rows = image_MoA_subset.category.isnull()\n",
    "\n",
    "# Remove null values to reduce dataframe to target categories. \n",
    "image_MoA_subset = image_MoA_subset[image_MoA_subset['category'].notna()]\n",
    "\n",
    "print(image_MoA_subset.category.value_counts())\n",
    "print(image_MoA_subset.shape)"
   ]
  },
  {
   "cell_type": "code",
   "execution_count": 67,
   "metadata": {},
   "outputs": [
    {
     "data": {
      "text/html": [
       "<div>\n",
       "<style scoped>\n",
       "    .dataframe tbody tr th:only-of-type {\n",
       "        vertical-align: middle;\n",
       "    }\n",
       "\n",
       "    .dataframe tbody tr th {\n",
       "        vertical-align: top;\n",
       "    }\n",
       "\n",
       "    .dataframe thead th {\n",
       "        text-align: right;\n",
       "    }\n",
       "</style>\n",
       "<table border=\"1\" class=\"dataframe\">\n",
       "  <thead>\n",
       "    <tr style=\"text-align: right;\">\n",
       "      <th></th>\n",
       "      <th>Unnamed: 0</th>\n",
       "      <th>site_id</th>\n",
       "      <th>well_id</th>\n",
       "      <th>cell_type</th>\n",
       "      <th>experiment</th>\n",
       "      <th>plate</th>\n",
       "      <th>well</th>\n",
       "      <th>site</th>\n",
       "      <th>treatment</th>\n",
       "      <th>treatment_conc</th>\n",
       "      <th>mechanism</th>\n",
       "      <th>Unnamed: 2</th>\n",
       "      <th>Unnamed: 3</th>\n",
       "      <th>category</th>\n",
       "    </tr>\n",
       "  </thead>\n",
       "  <tbody>\n",
       "    <tr>\n",
       "      <th>288</th>\n",
       "      <td>288</td>\n",
       "      <td>HUVEC-1_1_AA04_1</td>\n",
       "      <td>HUVEC-1_1_AA04</td>\n",
       "      <td>HUVEC</td>\n",
       "      <td>HUVEC-1</td>\n",
       "      <td>1</td>\n",
       "      <td>AA04</td>\n",
       "      <td>1</td>\n",
       "      <td>GDF-1</td>\n",
       "      <td>0.1</td>\n",
       "      <td>Growth factor</td>\n",
       "      <td>NaN</td>\n",
       "      <td>NaN</td>\n",
       "      <td>1.0</td>\n",
       "    </tr>\n",
       "    <tr>\n",
       "      <th>289</th>\n",
       "      <td>289</td>\n",
       "      <td>HUVEC-1_1_AA04_2</td>\n",
       "      <td>HUVEC-1_1_AA04</td>\n",
       "      <td>HUVEC</td>\n",
       "      <td>HUVEC-1</td>\n",
       "      <td>1</td>\n",
       "      <td>AA04</td>\n",
       "      <td>2</td>\n",
       "      <td>GDF-1</td>\n",
       "      <td>0.1</td>\n",
       "      <td>Growth factor</td>\n",
       "      <td>NaN</td>\n",
       "      <td>NaN</td>\n",
       "      <td>1.0</td>\n",
       "    </tr>\n",
       "    <tr>\n",
       "      <th>290</th>\n",
       "      <td>290</td>\n",
       "      <td>HUVEC-1_1_AA04_3</td>\n",
       "      <td>HUVEC-1_1_AA04</td>\n",
       "      <td>HUVEC</td>\n",
       "      <td>HUVEC-1</td>\n",
       "      <td>1</td>\n",
       "      <td>AA04</td>\n",
       "      <td>3</td>\n",
       "      <td>GDF-1</td>\n",
       "      <td>0.1</td>\n",
       "      <td>Growth factor</td>\n",
       "      <td>NaN</td>\n",
       "      <td>NaN</td>\n",
       "      <td>1.0</td>\n",
       "    </tr>\n",
       "    <tr>\n",
       "      <th>291</th>\n",
       "      <td>291</td>\n",
       "      <td>HUVEC-1_1_AA04_4</td>\n",
       "      <td>HUVEC-1_1_AA04</td>\n",
       "      <td>HUVEC</td>\n",
       "      <td>HUVEC-1</td>\n",
       "      <td>1</td>\n",
       "      <td>AA04</td>\n",
       "      <td>4</td>\n",
       "      <td>GDF-1</td>\n",
       "      <td>0.1</td>\n",
       "      <td>Growth factor</td>\n",
       "      <td>NaN</td>\n",
       "      <td>NaN</td>\n",
       "      <td>1.0</td>\n",
       "    </tr>\n",
       "    <tr>\n",
       "      <th>576</th>\n",
       "      <td>576</td>\n",
       "      <td>HUVEC-1_1_AA05_1</td>\n",
       "      <td>HUVEC-1_1_AA05</td>\n",
       "      <td>HUVEC</td>\n",
       "      <td>HUVEC-1</td>\n",
       "      <td>1</td>\n",
       "      <td>AA05</td>\n",
       "      <td>1</td>\n",
       "      <td>CCL14a</td>\n",
       "      <td>0.1</td>\n",
       "      <td>GPCR agonist</td>\n",
       "      <td>NaN</td>\n",
       "      <td>NaN</td>\n",
       "      <td>0.0</td>\n",
       "    </tr>\n",
       "  </tbody>\n",
       "</table>\n",
       "</div>"
      ],
      "text/plain": [
       "     Unnamed: 0           site_id         well_id cell_type experiment  plate  \\\n",
       "288         288  HUVEC-1_1_AA04_1  HUVEC-1_1_AA04     HUVEC    HUVEC-1      1   \n",
       "289         289  HUVEC-1_1_AA04_2  HUVEC-1_1_AA04     HUVEC    HUVEC-1      1   \n",
       "290         290  HUVEC-1_1_AA04_3  HUVEC-1_1_AA04     HUVEC    HUVEC-1      1   \n",
       "291         291  HUVEC-1_1_AA04_4  HUVEC-1_1_AA04     HUVEC    HUVEC-1      1   \n",
       "576         576  HUVEC-1_1_AA05_1  HUVEC-1_1_AA05     HUVEC    HUVEC-1      1   \n",
       "\n",
       "     well  site treatment  treatment_conc      mechanism Unnamed: 2  \\\n",
       "288  AA04     1     GDF-1             0.1  Growth factor        NaN   \n",
       "289  AA04     2     GDF-1             0.1  Growth factor        NaN   \n",
       "290  AA04     3     GDF-1             0.1  Growth factor        NaN   \n",
       "291  AA04     4     GDF-1             0.1  Growth factor        NaN   \n",
       "576  AA05     1    CCL14a             0.1   GPCR agonist        NaN   \n",
       "\n",
       "    Unnamed: 3  category  \n",
       "288        NaN       1.0  \n",
       "289        NaN       1.0  \n",
       "290        NaN       1.0  \n",
       "291        NaN       1.0  \n",
       "576        NaN       0.0  "
      ]
     },
     "execution_count": 67,
     "metadata": {},
     "output_type": "execute_result"
    }
   ],
   "source": [
    "image_MoA_subset.head()"
   ]
  },
  {
   "cell_type": "code",
   "execution_count": 68,
   "metadata": {},
   "outputs": [],
   "source": [
    "# List of plates with images processed into npy arrays\n",
    "npy_list = ['plate_1_1.npy', 'plate_1_2.npy', 'plate_1_3.npy', 'plate_1_4.npy','plate_1_5.npy', 'plate_1_6.npy', 'plate_1_7.npy', 'plate_1_8.npy', 'plate_1_9.npy']"
   ]
  },
  {
   "cell_type": "code",
   "execution_count": 69,
   "metadata": {},
   "outputs": [
    {
     "name": "stdout",
     "output_type": "stream",
     "text": [
      "plate_1_1.npy\n",
      "plate_1_2.npy\n",
      "plate_1_3.npy\n",
      "plate_1_4.npy\n",
      "plate_1_5.npy\n",
      "plate_1_6.npy\n",
      "plate_1_7.npy\n",
      "plate_1_8.npy\n",
      "plate_1_9.npy\n"
     ]
    }
   ],
   "source": [
    "# Load in preprocessed iamges\n",
    "all_npy = np.empty((0,100,100,6)).astype('float32')\n",
    "for npy_ in npy_list:\n",
    "    print(npy_)\n",
    "    loaded_npy = np.load('/home/emily/' + npy_).astype('float32')\n",
    "    #Use float 32 for memory reasons\n",
    "    all_npy = np.append(all_npy, loaded_npy, axis = 0)"
   ]
  },
  {
   "cell_type": "code",
   "execution_count": 70,
   "metadata": {},
   "outputs": [
    {
     "data": {
      "text/plain": [
       "(15627, 100, 100, 6)"
      ]
     },
     "execution_count": 70,
     "metadata": {},
     "output_type": "execute_result"
    }
   ],
   "source": [
    "# Remove image arrays of non-target categories\n",
    "no_null_npy = np.delete(all_npy, null_rows, axis = 0)\n",
    "no_null_npy.shape"
   ]
  },
  {
   "cell_type": "code",
   "execution_count": 71,
   "metadata": {},
   "outputs": [],
   "source": [
    "def train_val_test(image_array, y_target):\n",
    "    \"\"\"Input: pre-processed array of images and y-target (specified mechanism of actions)\n",
    "    Output: Train-validation-test splits stratified on target classes\"\"\"        \n",
    "    # Assign X and y \n",
    "    X_ = image_array\n",
    "    y_ = y_target\n",
    "\n",
    "    # Train-test split\n",
    "    X_train_, X_test, y_train_, y_test = (train_test_split(X_, y_, \n",
    "                                                     test_size = .2, random_state = 22, stratify = y_))\n",
    "    \n",
    "    X_train, X_valid, y_train, y_valid = (train_test_split(X_train_, y_train_, \n",
    "                                                     test_size = .25, random_state = 42, stratify = y_train_))\n",
    "    \n",
    "    return X_train, y_train, X_test, y_test, X_valid, y_valid"
   ]
  },
  {
   "cell_type": "code",
   "execution_count": 72,
   "metadata": {},
   "outputs": [],
   "source": [
    "X_train, y_train, X_test, y_test, X_valid, y_valid = train_val_test(no_null_npy, image_MoA_subset.category)\n"
   ]
  },
  {
   "cell_type": "code",
   "execution_count": 73,
   "metadata": {},
   "outputs": [],
   "source": [
    "# Normalize image array pixel intensity values to a range of 0-1 \n",
    "X_train /= 255\n",
    "X_valid /= 255\n",
    "X_test /= 255"
   ]
  },
  {
   "cell_type": "code",
   "execution_count": 74,
   "metadata": {},
   "outputs": [
    {
     "data": {
      "text/plain": [
       "(9375, 100, 100, 6)"
      ]
     },
     "execution_count": 74,
     "metadata": {},
     "output_type": "execute_result"
    }
   ],
   "source": [
    "X_train.shape"
   ]
  },
  {
   "cell_type": "code",
   "execution_count": 75,
   "metadata": {},
   "outputs": [
    {
     "data": {
      "text/plain": [
       "(9375, 3)"
      ]
     },
     "execution_count": 75,
     "metadata": {},
     "output_type": "execute_result"
    }
   ],
   "source": [
    "np_utils.to_categorical(y_train).shape"
   ]
  },
  {
   "cell_type": "code",
   "execution_count": 76,
   "metadata": {},
   "outputs": [
    {
     "name": "stdout",
     "output_type": "stream",
     "text": [
      "{0: 1.239587465291551, 1: 0.8189203354297694, 2: 1.0286372613561554}\n"
     ]
    },
    {
     "name": "stderr",
     "output_type": "stream",
     "text": [
      "/opt/conda/lib/python3.7/site-packages/sklearn/utils/validation.py:72: FutureWarning: Pass classes=[0. 1. 2.], y=29492     1.0\n",
      "40151     1.0\n",
      "53346     2.0\n",
      "100526    2.0\n",
      "5522      2.0\n",
      "         ... \n",
      "45325     2.0\n",
      "37801     1.0\n",
      "73718     2.0\n",
      "88428     1.0\n",
      "68581     1.0\n",
      "Name: category, Length: 9375, dtype: float64 as keyword args. From version 1.0 (renaming of 0.25) passing these as positional arguments will result in an error\n",
      "  \"will result in an error\", FutureWarning)\n"
     ]
    }
   ],
   "source": [
    "# Create dictionary to balance classes in training \n",
    "class_weights = class_weight.compute_class_weight('balanced'\n",
    "                                               ,np.unique(y_train)\n",
    "                                               ,y_train)\n",
    "\n",
    "class_weight_dict = dict(enumerate(class_weights))\n",
    "print(class_weight_dict)"
   ]
  },
  {
   "cell_type": "code",
   "execution_count": 83,
   "metadata": {},
   "outputs": [],
   "source": [
    "opt_ = optimizers.Adam(lr=0.05, beta_1 = 0.9)\n",
    "\n",
    "CNN16 = Sequential([InputLayer(input_shape=X_train.shape[1:]),\n",
    "            Conv2D(16, (3,3), activation=keras.layers.LeakyReLU(alpha=0.2), padding='same', kernel_initializer = 'he_normal'),\n",
    "            MaxPooling2D(),\n",
    "            Conv2D(32, (3,3), activation=keras.layers.LeakyReLU(alpha=0.2), padding='same', kernel_initializer = 'he_normal'),\n",
    "            MaxPooling2D(),\n",
    "#                          Conv2D(64, (3,3), activation=keras.layers.LeakyReLU(alpha=0.2), padding='same'),\n",
    "#                          MaxPooling2D(),\n",
    "            Flatten(),\n",
    "#                          Dense(128, activation = keras.layers.LeakyReLU(alpha=0.2)),\n",
    "#                          Dropout(0.1), \n",
    "                         Dense(64, activation = keras.layers.LeakyReLU(alpha=0.2)),\n",
    "                         Dropout(0.1), \n",
    "#                          Dense(32, activation =  keras.layers.LeakyReLU(alpha=0.2), kernel_regularizer = 'l1'),\n",
    "#                          Dropout(0.2), \n",
    "                         Dense(8, activation =  keras.layers.LeakyReLU(alpha=0.2)),\n",
    "                         Dense(3, activation='softmax')]) \n",
    "CNN16.compile(\n",
    "    loss='categorical_crossentropy',\n",
    "    optimizer= opt_,\n",
    "    metrics=[metrics.categorical_accuracy],\n",
    ")"
   ]
  },
  {
   "cell_type": "code",
   "execution_count": 84,
   "metadata": {},
   "outputs": [
    {
     "name": "stdout",
     "output_type": "stream",
     "text": [
      "Train on 9375 samples, validate on 3126 samples\n",
      "Epoch 1/500\n",
      "9375/9375 [==============================] - 27s 3ms/step - loss: 1.1138 - categorical_accuracy: 0.3644 - val_loss: 1.0949 - val_categorical_accuracy: 0.4082\n",
      "Epoch 2/500\n",
      "9375/9375 [==============================] - 26s 3ms/step - loss: 1.0933 - categorical_accuracy: 0.3833 - val_loss: 1.0943 - val_categorical_accuracy: 0.3784\n",
      "Epoch 3/500\n",
      "9375/9375 [==============================] - 26s 3ms/step - loss: 1.0544 - categorical_accuracy: 0.4457 - val_loss: 1.1430 - val_categorical_accuracy: 0.3093\n",
      "Epoch 4/500\n",
      "9375/9375 [==============================] - 26s 3ms/step - loss: 0.9084 - categorical_accuracy: 0.5807 - val_loss: 1.2016 - val_categorical_accuracy: 0.3337\n",
      "Epoch 5/500\n",
      "9375/9375 [==============================] - 26s 3ms/step - loss: 0.6531 - categorical_accuracy: 0.7281 - val_loss: 1.4704 - val_categorical_accuracy: 0.3522\n",
      "\n",
      "Epoch 00005: ReduceLROnPlateau reducing learning rate to 0.0005000000237487257.\n",
      "Epoch 6/500\n",
      "9375/9375 [==============================] - 26s 3ms/step - loss: 0.3111 - categorical_accuracy: 0.8969 - val_loss: 1.9328 - val_categorical_accuracy: 0.3442\n",
      "Epoch 7/500\n",
      "9375/9375 [==============================] - 25s 3ms/step - loss: 0.1561 - categorical_accuracy: 0.9594 - val_loss: 2.3477 - val_categorical_accuracy: 0.3356\n",
      "Epoch 8/500\n",
      "9375/9375 [==============================] - 26s 3ms/step - loss: 0.0770 - categorical_accuracy: 0.9873 - val_loss: 2.8975 - val_categorical_accuracy: 0.3532\n",
      "\n",
      "Epoch 00008: ReduceLROnPlateau reducing learning rate to 0.0002500000118743628.\n",
      "Epoch 9/500\n",
      "9375/9375 [==============================] - 26s 3ms/step - loss: 0.0361 - categorical_accuracy: 0.9961 - val_loss: 3.1002 - val_categorical_accuracy: 0.3404\n",
      "Epoch 10/500\n",
      "9375/9375 [==============================] - 26s 3ms/step - loss: 0.0256 - categorical_accuracy: 0.9974 - val_loss: 3.3949 - val_categorical_accuracy: 0.3397\n",
      "Epoch 11/500\n",
      "9375/9375 [==============================] - 26s 3ms/step - loss: 0.0191 - categorical_accuracy: 0.9987 - val_loss: 3.5094 - val_categorical_accuracy: 0.3493\n",
      "\n",
      "Epoch 00011: ReduceLROnPlateau reducing learning rate to 0.0001250000059371814.\n",
      "Epoch 12/500\n",
      "9375/9375 [==============================] - 25s 3ms/step - loss: 0.0157 - categorical_accuracy: 0.9993 - val_loss: 3.5923 - val_categorical_accuracy: 0.3420\n"
     ]
    }
   ],
   "source": [
    "from tensorflow.keras.callbacks import EarlyStopping\n",
    "from keras.utils import np_utils\n",
    "import datetime\n",
    "\n",
    "\n",
    "early_stop = EarlyStopping(monitor = 'val_loss', mode = 'min', patience=10, restore_best_weights=True)\n",
    "learning_rate = keras.callbacks.ReduceLROnPlateau(factor=.5, patience=3, verbose=1)\n",
    "log_dir = \"logs/fit/\" + datetime.datetime.now().strftime(\"%Y%m%d-%H%M%S\")\n",
    "tensorboard_callback = tf.keras.callbacks.TensorBoard(log_dir=log_dir, histogram_freq=1)\n",
    "\n",
    "\n",
    "history = CNN16.fit(\n",
    "    X_train,\n",
    "    np_utils.to_categorical(y_train),\n",
    "    epochs = 500,  \n",
    "    validation_data = (X_valid, np_utils.to_categorical(y_valid)), class_weight = class_weight_dict,\n",
    "    batch_size = 64, callbacks = [early_stop, learning_rate, tensorboard_callback]\n",
    ")\n",
    "\n"
   ]
  },
  {
   "cell_type": "code",
   "execution_count": 89,
   "metadata": {},
   "outputs": [],
   "source": [
    "from matplotlib import pyplot as plt\n",
    "def plot_loss(model):\n",
    "    history = model.history\n",
    "    plt.plot(history.history['loss'])\n",
    "    plt.plot(history.history['val_loss'])\n",
    "    plt.ylim(bottom = 0)\n",
    "    plt.title('model loss')\n",
    "    plt.ylabel('loss')\n",
    "    plt.xlabel('epoch')\n",
    "    plt.legend(['train', 'validation'], loc='upper left')\n",
    "    plt.show()\n",
    "    plt.savefig('' + '_loss.png')\n"
   ]
  },
  {
   "cell_type": "code",
   "execution_count": 90,
   "metadata": {},
   "outputs": [],
   "source": [
    "def plot_acc(model):\n",
    "    history = model.history\n",
    "    plt.plot(history.history['categorical_accuracy'])\n",
    "    plt.plot(history.history['val_categorical_accuracy'])\n",
    "    plt.ylim(bottom = 0)\n",
    "    plt.title('model accuracy')\n",
    "    plt.ylabel('accuracy')\n",
    "    plt.xlabel('epoch')\n",
    "    plt.legend(['train', 'validation'], loc='upper left')\n",
    "    plt.show()\n",
    "    plt.savefig('local_minima' + '_accuracy.png')\n"
   ]
  },
  {
   "cell_type": "code",
   "execution_count": 91,
   "metadata": {},
   "outputs": [],
   "source": [
    "from sklearn.metrics import accuracy_score, confusion_matrix\n",
    "\n",
    "def model_performance(model, y_test, X_test):\n",
    "    print('Accuracy ' + str(accuracy_score(y_test, np.argmax(model.predict(X_test), axis = -1))))\n",
    "    print('Confusion matrix') \n",
    "    print(confusion_matrix(y_test, np.argmax(model.predict(X_test), axis = -1)))\n",
    "    print(model.summary())\n",
    "    plot_loss(model)\n",
    "    plot_acc(model)"
   ]
  },
  {
   "cell_type": "code",
   "execution_count": 93,
   "metadata": {},
   "outputs": [
    {
     "name": "stdout",
     "output_type": "stream",
     "text": [
      "Accuracy 0.3896353166986564\n",
      "Confusion matrix\n",
      "[[ 15 578 248]\n",
      " [ 26 886 360]\n",
      " [ 25 671 317]]\n",
      "Model: \"sequential_6\"\n",
      "_________________________________________________________________\n",
      "Layer (type)                 Output Shape              Param #   \n",
      "=================================================================\n",
      "conv2d_11 (Conv2D)           (None, 100, 100, 16)      880       \n",
      "_________________________________________________________________\n",
      "max_pooling2d_11 (MaxPooling (None, 50, 50, 16)        0         \n",
      "_________________________________________________________________\n",
      "conv2d_12 (Conv2D)           (None, 50, 50, 32)        4640      \n",
      "_________________________________________________________________\n",
      "max_pooling2d_12 (MaxPooling (None, 25, 25, 32)        0         \n",
      "_________________________________________________________________\n",
      "flatten_6 (Flatten)          (None, 20000)             0         \n",
      "_________________________________________________________________\n",
      "dense_21 (Dense)             (None, 64)                1280064   \n",
      "_________________________________________________________________\n",
      "dropout_7 (Dropout)          (None, 64)                0         \n",
      "_________________________________________________________________\n",
      "dense_22 (Dense)             (None, 8)                 520       \n",
      "_________________________________________________________________\n",
      "dense_23 (Dense)             (None, 3)                 27        \n",
      "=================================================================\n",
      "Total params: 1,286,131\n",
      "Trainable params: 1,286,131\n",
      "Non-trainable params: 0\n",
      "_________________________________________________________________\n",
      "None\n"
     ]
    },
    {
     "data": {
      "image/png": "[encoded data removed]",
      "text/plain": [
       "<Figure size 432x288 with 1 Axes>"
      ]
     },
     "metadata": {
      "needs_background": "light"
     },
     "output_type": "display_data"
    },
    {
     "data": {
      "image/png": "[encoded data removed]",
      "text/plain": [
       "<Figure size 432x288 with 1 Axes>"
      ]
     },
     "metadata": {
      "needs_background": "light"
     },
     "output_type": "display_data"
    },
    {
     "data": {
      "text/plain": [
       "<Figure size 432x288 with 0 Axes>"
      ]
     },
     "metadata": {},
     "output_type": "display_data"
    }
   ],
   "source": [
    "model_performance(CNN16, y_test, X_test)"
   ]
  },
  {
   "cell_type": "code",
   "execution_count": null,
   "metadata": {},
   "outputs": [],
   "source": [
    "model_performance(CNN1, y_test, X_test)"
   ]
  },
  {
   "cell_type": "code",
   "execution_count": null,
   "metadata": {},
   "outputs": [],
   "source": [
    "model_performance(CNN2, y_test, X_test)"
   ]
  },
  {
   "cell_type": "code",
   "execution_count": null,
   "metadata": {},
   "outputs": [],
   "source": [
    "# Used SGD instead of Adam for optimizer, gradient descent blew up \n",
    "model_performance(CNN3, y_test, X_test)"
   ]
  },
  {
   "cell_type": "code",
   "execution_count": null,
   "metadata": {},
   "outputs": [],
   "source": [
    "# Reduced learning rate of SGD, caused it to go to local minima\n",
    "model_performance(CNN4, y_test, X_test)"
   ]
  },
  {
   "cell_type": "code",
   "execution_count": null,
   "metadata": {},
   "outputs": [],
   "source": [
    "# Changed SGD momentum to 0.5, once again converged to local minima\n",
    "model_performance(CNN5, y_test, X_test)"
   ]
  },
  {
   "cell_type": "code",
   "execution_count": null,
   "metadata": {},
   "outputs": [],
   "source": [
    "# Changed to adam optimizer w/ lr = 0.001, went to local minima\n",
    "model_performance(CNN6, y_test, X_test)"
   ]
  },
  {
   "cell_type": "code",
   "execution_count": null,
   "metadata": {},
   "outputs": [],
   "source": [
    "# Adam optimizer with lr = 0.01, once again, went to local minima\n",
    "model_performance(CNN7, y_test, X_test)"
   ]
  },
  {
   "cell_type": "code",
   "execution_count": null,
   "metadata": {},
   "outputs": [],
   "source": [
    "# Adam optimizer with lr = 0.01, once again, went to local minima\n",
    "model_performance(CNN8, y_test, X_test)"
   ]
  },
  {
   "cell_type": "code",
   "execution_count": null,
   "metadata": {},
   "outputs": [],
   "source": [
    "model_performance(CNN9, y_test, X_test)"
   ]
  },
  {
   "cell_type": "code",
   "execution_count": null,
   "metadata": {},
   "outputs": [],
   "source": [
    "model_performance(CNN10, y_test, X_test)"
   ]
  },
  {
   "cell_type": "code",
   "execution_count": null,
   "metadata": {},
   "outputs": [],
   "source": [
    "model_performance(CNN11, y_test, X_test)"
   ]
  },
  {
   "cell_type": "code",
   "execution_count": null,
   "metadata": {},
   "outputs": [],
   "source": [
    "model_performance(CNN12, y_test, X_test)"
   ]
  },
  {
   "cell_type": "code",
   "execution_count": null,
   "metadata": {},
   "outputs": [],
   "source": []
  }
 ],
 "metadata": {
  "environment": {
   "name": "common-cu110.m76",
   "type": "gcloud",
   "uri": "gcr.io/deeplearning-platform-release/base-cu110:m76"
  },
  "kernelspec": {
   "display_name": "Python 3",
   "language": "python",
   "name": "python3"
  },
  "language_info": {
   "codemirror_mode": {
    "name": "ipython",
    "version": 3
   },
   "file_extension": ".py",
   "mimetype": "text/x-python",
   "name": "python",
   "nbconvert_exporter": "python",
   "pygments_lexer": "ipython3",
   "version": "3.8.5"
  }
 },
 "nbformat": 4,
 "nbformat_minor": 5
}
